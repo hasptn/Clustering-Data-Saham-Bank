{
 "cells": [
  {
   "cell_type": "markdown",
   "id": "25237392",
   "metadata": {},
   "source": [
    "### Clustering Data BBRI.JK\n",
    "---"
   ]
  },
  {
   "cell_type": "code",
   "execution_count": 1,
   "id": "c1b5277c",
   "metadata": {},
   "outputs": [],
   "source": [
    "import numpy as np \n",
    "import pandas as pd \n",
    "import matplotlib.pyplot as plt \n",
    "import seaborn as sns\n",
    "\n",
    "from sklearn.cluster import KMeans\n",
    "from sklearn.preprocessing import MinMaxScaler\n",
    "\n",
    "import warnings \n",
    "warnings.filterwarnings('ignore')"
   ]
  },
  {
   "cell_type": "code",
   "execution_count": 60,
   "id": "69622e09",
   "metadata": {},
   "outputs": [
    {
     "data": {
      "text/html": [
       "<div>\n",
       "<style scoped>\n",
       "    .dataframe tbody tr th:only-of-type {\n",
       "        vertical-align: middle;\n",
       "    }\n",
       "\n",
       "    .dataframe tbody tr th {\n",
       "        vertical-align: top;\n",
       "    }\n",
       "\n",
       "    .dataframe thead th {\n",
       "        text-align: right;\n",
       "    }\n",
       "</style>\n",
       "<table border=\"1\" class=\"dataframe\">\n",
       "  <thead>\n",
       "    <tr style=\"text-align: right;\">\n",
       "      <th></th>\n",
       "      <th>Date</th>\n",
       "      <th>Open</th>\n",
       "      <th>High</th>\n",
       "      <th>Low</th>\n",
       "      <th>Close</th>\n",
       "    </tr>\n",
       "  </thead>\n",
       "  <tbody>\n",
       "    <tr>\n",
       "      <th>0</th>\n",
       "      <td>2020-11-01</td>\n",
       "      <td>3360.000000</td>\n",
       "      <td>4390.0</td>\n",
       "      <td>3290.000000</td>\n",
       "      <td>4090.000000</td>\n",
       "    </tr>\n",
       "    <tr>\n",
       "      <th>1</th>\n",
       "      <td>2020-12-01</td>\n",
       "      <td>4130.000000</td>\n",
       "      <td>4450.0</td>\n",
       "      <td>3950.000000</td>\n",
       "      <td>4170.000000</td>\n",
       "    </tr>\n",
       "    <tr>\n",
       "      <th>2</th>\n",
       "      <td>2021-01-01</td>\n",
       "      <td>4170.000000</td>\n",
       "      <td>4950.0</td>\n",
       "      <td>4150.000000</td>\n",
       "      <td>4180.000000</td>\n",
       "    </tr>\n",
       "    <tr>\n",
       "      <th>3</th>\n",
       "      <td>2021-02-01</td>\n",
       "      <td>4180.000000</td>\n",
       "      <td>4870.0</td>\n",
       "      <td>3960.000000</td>\n",
       "      <td>4710.000000</td>\n",
       "    </tr>\n",
       "    <tr>\n",
       "      <th>4</th>\n",
       "      <td>2021-03-01</td>\n",
       "      <td>4800.000000</td>\n",
       "      <td>4880.0</td>\n",
       "      <td>4260.000000</td>\n",
       "      <td>4400.000000</td>\n",
       "    </tr>\n",
       "    <tr>\n",
       "      <th>5</th>\n",
       "      <td>2021-04-01</td>\n",
       "      <td>4350.000000</td>\n",
       "      <td>4460.0</td>\n",
       "      <td>4050.000000</td>\n",
       "      <td>4050.000000</td>\n",
       "    </tr>\n",
       "    <tr>\n",
       "      <th>6</th>\n",
       "      <td>2021-05-01</td>\n",
       "      <td>4060.000000</td>\n",
       "      <td>4280.0</td>\n",
       "      <td>3820.000000</td>\n",
       "      <td>4260.000000</td>\n",
       "    </tr>\n",
       "    <tr>\n",
       "      <th>7</th>\n",
       "      <td>2021-06-01</td>\n",
       "      <td>4350.000000</td>\n",
       "      <td>4390.0</td>\n",
       "      <td>3860.000000</td>\n",
       "      <td>3940.000000</td>\n",
       "    </tr>\n",
       "    <tr>\n",
       "      <th>8</th>\n",
       "      <td>2021-07-01</td>\n",
       "      <td>3940.000000</td>\n",
       "      <td>4030.0</td>\n",
       "      <td>3700.000000</td>\n",
       "      <td>3710.000000</td>\n",
       "    </tr>\n",
       "    <tr>\n",
       "      <th>9</th>\n",
       "      <td>2021-08-01</td>\n",
       "      <td>3770.000000</td>\n",
       "      <td>4090.0</td>\n",
       "      <td>3481.758057</td>\n",
       "      <td>3572.665527</td>\n",
       "    </tr>\n",
       "    <tr>\n",
       "      <th>10</th>\n",
       "      <td>2021-09-01</td>\n",
       "      <td>3572.665527</td>\n",
       "      <td>3880.0</td>\n",
       "      <td>3463.576416</td>\n",
       "      <td>3850.000000</td>\n",
       "    </tr>\n",
       "    <tr>\n",
       "      <th>11</th>\n",
       "      <td>2021-10-01</td>\n",
       "      <td>3850.000000</td>\n",
       "      <td>4460.0</td>\n",
       "      <td>3830.000000</td>\n",
       "      <td>4250.000000</td>\n",
       "    </tr>\n",
       "    <tr>\n",
       "      <th>12</th>\n",
       "      <td>2021-11-01</td>\n",
       "      <td>4330.000000</td>\n",
       "      <td>4340.0</td>\n",
       "      <td>4120.000000</td>\n",
       "      <td>4160.000000</td>\n",
       "    </tr>\n",
       "  </tbody>\n",
       "</table>\n",
       "</div>"
      ],
      "text/plain": [
       "          Date         Open    High          Low        Close\n",
       "0   2020-11-01  3360.000000  4390.0  3290.000000  4090.000000\n",
       "1   2020-12-01  4130.000000  4450.0  3950.000000  4170.000000\n",
       "2   2021-01-01  4170.000000  4950.0  4150.000000  4180.000000\n",
       "3   2021-02-01  4180.000000  4870.0  3960.000000  4710.000000\n",
       "4   2021-03-01  4800.000000  4880.0  4260.000000  4400.000000\n",
       "5   2021-04-01  4350.000000  4460.0  4050.000000  4050.000000\n",
       "6   2021-05-01  4060.000000  4280.0  3820.000000  4260.000000\n",
       "7   2021-06-01  4350.000000  4390.0  3860.000000  3940.000000\n",
       "8   2021-07-01  3940.000000  4030.0  3700.000000  3710.000000\n",
       "9   2021-08-01  3770.000000  4090.0  3481.758057  3572.665527\n",
       "10  2021-09-01  3572.665527  3880.0  3463.576416  3850.000000\n",
       "11  2021-10-01  3850.000000  4460.0  3830.000000  4250.000000\n",
       "12  2021-11-01  4330.000000  4340.0  4120.000000  4160.000000"
      ]
     },
     "execution_count": 60,
     "metadata": {},
     "output_type": "execute_result"
    }
   ],
   "source": [
    "df = pd.read_csv(\"BBRI.JK.csv\")\n",
    "df = df.drop(['Adj Close', 'Volume'], axis=1)\n",
    "df"
   ]
  },
  {
   "cell_type": "code",
   "execution_count": 26,
   "id": "fec168b1",
   "metadata": {},
   "outputs": [
    {
     "name": "stdout",
     "output_type": "stream",
     "text": [
      "<class 'pandas.core.frame.DataFrame'>\n",
      "RangeIndex: 13 entries, 0 to 12\n",
      "Data columns (total 5 columns):\n",
      " #   Column  Non-Null Count  Dtype  \n",
      "---  ------  --------------  -----  \n",
      " 0   Date    13 non-null     object \n",
      " 1   Open    13 non-null     float64\n",
      " 2   High    13 non-null     float64\n",
      " 3   Low     13 non-null     float64\n",
      " 4   Close   13 non-null     float64\n",
      "dtypes: float64(4), object(1)\n",
      "memory usage: 648.0+ bytes\n"
     ]
    }
   ],
   "source": [
    "df.info()"
   ]
  },
  {
   "cell_type": "code",
   "execution_count": 27,
   "id": "1fb61f11",
   "metadata": {},
   "outputs": [
    {
     "data": {
      "text/plain": [
       "Date     0\n",
       "Open     0\n",
       "High     0\n",
       "Low      0\n",
       "Close    0\n",
       "dtype: int64"
      ]
     },
     "execution_count": 27,
     "metadata": {},
     "output_type": "execute_result"
    }
   ],
   "source": [
    "df.isnull().sum()"
   ]
  },
  {
   "cell_type": "code",
   "execution_count": 28,
   "id": "a922530a",
   "metadata": {},
   "outputs": [
    {
     "data": {
      "text/html": [
       "<div>\n",
       "<style scoped>\n",
       "    .dataframe tbody tr th:only-of-type {\n",
       "        vertical-align: middle;\n",
       "    }\n",
       "\n",
       "    .dataframe tbody tr th {\n",
       "        vertical-align: top;\n",
       "    }\n",
       "\n",
       "    .dataframe thead th {\n",
       "        text-align: right;\n",
       "    }\n",
       "</style>\n",
       "<table border=\"1\" class=\"dataframe\">\n",
       "  <thead>\n",
       "    <tr style=\"text-align: right;\">\n",
       "      <th></th>\n",
       "      <th>Open</th>\n",
       "      <th>High</th>\n",
       "      <th>Low</th>\n",
       "      <th>Close</th>\n",
       "    </tr>\n",
       "  </thead>\n",
       "  <tbody>\n",
       "    <tr>\n",
       "      <th>count</th>\n",
       "      <td>13.000000</td>\n",
       "      <td>13.000000</td>\n",
       "      <td>13.000000</td>\n",
       "      <td>13.000000</td>\n",
       "    </tr>\n",
       "    <tr>\n",
       "      <th>mean</th>\n",
       "      <td>4066.358887</td>\n",
       "      <td>4420.769231</td>\n",
       "      <td>3841.179575</td>\n",
       "      <td>4103.281964</td>\n",
       "    </tr>\n",
       "    <tr>\n",
       "      <th>std</th>\n",
       "      <td>375.240948</td>\n",
       "      <td>326.533856</td>\n",
       "      <td>290.762491</td>\n",
       "      <td>295.217663</td>\n",
       "    </tr>\n",
       "    <tr>\n",
       "      <th>min</th>\n",
       "      <td>3360.000000</td>\n",
       "      <td>3880.000000</td>\n",
       "      <td>3290.000000</td>\n",
       "      <td>3572.665527</td>\n",
       "    </tr>\n",
       "    <tr>\n",
       "      <th>25%</th>\n",
       "      <td>3850.000000</td>\n",
       "      <td>4280.000000</td>\n",
       "      <td>3700.000000</td>\n",
       "      <td>3940.000000</td>\n",
       "    </tr>\n",
       "    <tr>\n",
       "      <th>50%</th>\n",
       "      <td>4130.000000</td>\n",
       "      <td>4390.000000</td>\n",
       "      <td>3860.000000</td>\n",
       "      <td>4160.000000</td>\n",
       "    </tr>\n",
       "    <tr>\n",
       "      <th>75%</th>\n",
       "      <td>4330.000000</td>\n",
       "      <td>4460.000000</td>\n",
       "      <td>4050.000000</td>\n",
       "      <td>4250.000000</td>\n",
       "    </tr>\n",
       "    <tr>\n",
       "      <th>max</th>\n",
       "      <td>4800.000000</td>\n",
       "      <td>4950.000000</td>\n",
       "      <td>4260.000000</td>\n",
       "      <td>4710.000000</td>\n",
       "    </tr>\n",
       "  </tbody>\n",
       "</table>\n",
       "</div>"
      ],
      "text/plain": [
       "              Open         High          Low        Close\n",
       "count    13.000000    13.000000    13.000000    13.000000\n",
       "mean   4066.358887  4420.769231  3841.179575  4103.281964\n",
       "std     375.240948   326.533856   290.762491   295.217663\n",
       "min    3360.000000  3880.000000  3290.000000  3572.665527\n",
       "25%    3850.000000  4280.000000  3700.000000  3940.000000\n",
       "50%    4130.000000  4390.000000  3860.000000  4160.000000\n",
       "75%    4330.000000  4460.000000  4050.000000  4250.000000\n",
       "max    4800.000000  4950.000000  4260.000000  4710.000000"
      ]
     },
     "execution_count": 28,
     "metadata": {},
     "output_type": "execute_result"
    }
   ],
   "source": [
    "df.describe()"
   ]
  },
  {
   "cell_type": "code",
   "execution_count": 29,
   "id": "9beb7ffc",
   "metadata": {},
   "outputs": [
    {
     "data": {
      "text/html": [
       "<div>\n",
       "<style scoped>\n",
       "    .dataframe tbody tr th:only-of-type {\n",
       "        vertical-align: middle;\n",
       "    }\n",
       "\n",
       "    .dataframe tbody tr th {\n",
       "        vertical-align: top;\n",
       "    }\n",
       "\n",
       "    .dataframe thead th {\n",
       "        text-align: right;\n",
       "    }\n",
       "</style>\n",
       "<table border=\"1\" class=\"dataframe\">\n",
       "  <thead>\n",
       "    <tr style=\"text-align: right;\">\n",
       "      <th></th>\n",
       "      <th>Date</th>\n",
       "      <th>Open</th>\n",
       "      <th>High</th>\n",
       "      <th>Low</th>\n",
       "      <th>Close</th>\n",
       "    </tr>\n",
       "  </thead>\n",
       "  <tbody>\n",
       "    <tr>\n",
       "      <th>count</th>\n",
       "      <td>13</td>\n",
       "      <td>13.000000</td>\n",
       "      <td>13.000000</td>\n",
       "      <td>13.000000</td>\n",
       "      <td>13.000000</td>\n",
       "    </tr>\n",
       "    <tr>\n",
       "      <th>unique</th>\n",
       "      <td>13</td>\n",
       "      <td>NaN</td>\n",
       "      <td>NaN</td>\n",
       "      <td>NaN</td>\n",
       "      <td>NaN</td>\n",
       "    </tr>\n",
       "    <tr>\n",
       "      <th>top</th>\n",
       "      <td>2021-03-01</td>\n",
       "      <td>NaN</td>\n",
       "      <td>NaN</td>\n",
       "      <td>NaN</td>\n",
       "      <td>NaN</td>\n",
       "    </tr>\n",
       "    <tr>\n",
       "      <th>freq</th>\n",
       "      <td>1</td>\n",
       "      <td>NaN</td>\n",
       "      <td>NaN</td>\n",
       "      <td>NaN</td>\n",
       "      <td>NaN</td>\n",
       "    </tr>\n",
       "    <tr>\n",
       "      <th>mean</th>\n",
       "      <td>NaN</td>\n",
       "      <td>4066.358887</td>\n",
       "      <td>4420.769231</td>\n",
       "      <td>3841.179575</td>\n",
       "      <td>4103.281964</td>\n",
       "    </tr>\n",
       "    <tr>\n",
       "      <th>std</th>\n",
       "      <td>NaN</td>\n",
       "      <td>375.240948</td>\n",
       "      <td>326.533856</td>\n",
       "      <td>290.762491</td>\n",
       "      <td>295.217663</td>\n",
       "    </tr>\n",
       "    <tr>\n",
       "      <th>min</th>\n",
       "      <td>NaN</td>\n",
       "      <td>3360.000000</td>\n",
       "      <td>3880.000000</td>\n",
       "      <td>3290.000000</td>\n",
       "      <td>3572.665527</td>\n",
       "    </tr>\n",
       "    <tr>\n",
       "      <th>25%</th>\n",
       "      <td>NaN</td>\n",
       "      <td>3850.000000</td>\n",
       "      <td>4280.000000</td>\n",
       "      <td>3700.000000</td>\n",
       "      <td>3940.000000</td>\n",
       "    </tr>\n",
       "    <tr>\n",
       "      <th>50%</th>\n",
       "      <td>NaN</td>\n",
       "      <td>4130.000000</td>\n",
       "      <td>4390.000000</td>\n",
       "      <td>3860.000000</td>\n",
       "      <td>4160.000000</td>\n",
       "    </tr>\n",
       "    <tr>\n",
       "      <th>75%</th>\n",
       "      <td>NaN</td>\n",
       "      <td>4330.000000</td>\n",
       "      <td>4460.000000</td>\n",
       "      <td>4050.000000</td>\n",
       "      <td>4250.000000</td>\n",
       "    </tr>\n",
       "    <tr>\n",
       "      <th>max</th>\n",
       "      <td>NaN</td>\n",
       "      <td>4800.000000</td>\n",
       "      <td>4950.000000</td>\n",
       "      <td>4260.000000</td>\n",
       "      <td>4710.000000</td>\n",
       "    </tr>\n",
       "  </tbody>\n",
       "</table>\n",
       "</div>"
      ],
      "text/plain": [
       "              Date         Open         High          Low        Close\n",
       "count           13    13.000000    13.000000    13.000000    13.000000\n",
       "unique          13          NaN          NaN          NaN          NaN\n",
       "top     2021-03-01          NaN          NaN          NaN          NaN\n",
       "freq             1          NaN          NaN          NaN          NaN\n",
       "mean           NaN  4066.358887  4420.769231  3841.179575  4103.281964\n",
       "std            NaN   375.240948   326.533856   290.762491   295.217663\n",
       "min            NaN  3360.000000  3880.000000  3290.000000  3572.665527\n",
       "25%            NaN  3850.000000  4280.000000  3700.000000  3940.000000\n",
       "50%            NaN  4130.000000  4390.000000  3860.000000  4160.000000\n",
       "75%            NaN  4330.000000  4460.000000  4050.000000  4250.000000\n",
       "max            NaN  4800.000000  4950.000000  4260.000000  4710.000000"
      ]
     },
     "execution_count": 29,
     "metadata": {},
     "output_type": "execute_result"
    }
   ],
   "source": [
    "df.describe(include=\"all\")"
   ]
  },
  {
   "cell_type": "code",
   "execution_count": 30,
   "id": "49db1fd9",
   "metadata": {},
   "outputs": [
    {
     "data": {
      "text/plain": [
       "Open     4066.358887\n",
       "High     4420.769231\n",
       "Low      3841.179575\n",
       "Close    4103.281964\n",
       "dtype: float64"
      ]
     },
     "execution_count": 30,
     "metadata": {},
     "output_type": "execute_result"
    }
   ],
   "source": [
    "df.mean()"
   ]
  },
  {
   "cell_type": "code",
   "execution_count": 31,
   "id": "efd8f918",
   "metadata": {},
   "outputs": [
    {
     "data": {
      "text/plain": [
       "Date     2020-11-012020-12-012021-01-012021-02-012021-0...\n",
       "Open                                          52862.665527\n",
       "High                                               57470.0\n",
       "Low                                           49935.334473\n",
       "Close                                         53342.665527\n",
       "dtype: object"
      ]
     },
     "execution_count": 31,
     "metadata": {},
     "output_type": "execute_result"
    }
   ],
   "source": [
    "df.sum()"
   ]
  },
  {
   "cell_type": "code",
   "execution_count": 32,
   "id": "87e7f23f",
   "metadata": {},
   "outputs": [
    {
     "data": {
      "text/plain": [
       "Open     4130.0\n",
       "High     4390.0\n",
       "Low      3860.0\n",
       "Close    4160.0\n",
       "dtype: float64"
      ]
     },
     "execution_count": 32,
     "metadata": {},
     "output_type": "execute_result"
    }
   ],
   "source": [
    "df.median()"
   ]
  },
  {
   "cell_type": "code",
   "execution_count": 33,
   "id": "a0513e03",
   "metadata": {},
   "outputs": [
    {
     "data": {
      "text/plain": [
       "Date     2021-11-01\n",
       "Open         4800.0\n",
       "High         4950.0\n",
       "Low          4260.0\n",
       "Close        4710.0\n",
       "dtype: object"
      ]
     },
     "execution_count": 33,
     "metadata": {},
     "output_type": "execute_result"
    }
   ],
   "source": [
    "df.max()"
   ]
  },
  {
   "cell_type": "code",
   "execution_count": 34,
   "id": "89b5ad1f",
   "metadata": {},
   "outputs": [
    {
     "data": {
      "text/plain": [
       "Date      2020-11-01\n",
       "Open          3360.0\n",
       "High          3880.0\n",
       "Low           3290.0\n",
       "Close    3572.665527\n",
       "dtype: object"
      ]
     },
     "execution_count": 34,
     "metadata": {},
     "output_type": "execute_result"
    }
   ],
   "source": [
    "df.min()"
   ]
  },
  {
   "cell_type": "code",
   "execution_count": 35,
   "id": "d25957db",
   "metadata": {},
   "outputs": [
    {
     "data": {
      "text/plain": [
       "Open     140805.768988\n",
       "High     106624.358974\n",
       "Low       84542.826346\n",
       "Close     87153.468309\n",
       "dtype: float64"
      ]
     },
     "execution_count": 35,
     "metadata": {},
     "output_type": "execute_result"
    }
   ],
   "source": [
    "df.var()"
   ]
  },
  {
   "cell_type": "code",
   "execution_count": 36,
   "id": "2f607e8f",
   "metadata": {},
   "outputs": [
    {
     "data": {
      "text/plain": [
       "Open     375.240948\n",
       "High     326.533856\n",
       "Low      290.762491\n",
       "Close    295.217663\n",
       "dtype: float64"
      ]
     },
     "execution_count": 36,
     "metadata": {},
     "output_type": "execute_result"
    }
   ],
   "source": [
    "df.std()"
   ]
  },
  {
   "cell_type": "code",
   "execution_count": 37,
   "id": "abbf40b5",
   "metadata": {},
   "outputs": [
    {
     "data": {
      "text/html": [
       "<div>\n",
       "<style scoped>\n",
       "    .dataframe tbody tr th:only-of-type {\n",
       "        vertical-align: middle;\n",
       "    }\n",
       "\n",
       "    .dataframe tbody tr th {\n",
       "        vertical-align: top;\n",
       "    }\n",
       "\n",
       "    .dataframe thead th {\n",
       "        text-align: right;\n",
       "    }\n",
       "</style>\n",
       "<table border=\"1\" class=\"dataframe\">\n",
       "  <thead>\n",
       "    <tr style=\"text-align: right;\">\n",
       "      <th></th>\n",
       "      <th>Open</th>\n",
       "      <th>High</th>\n",
       "      <th>Low</th>\n",
       "      <th>Close</th>\n",
       "    </tr>\n",
       "  </thead>\n",
       "  <tbody>\n",
       "    <tr>\n",
       "      <th>Open</th>\n",
       "      <td>1.000000</td>\n",
       "      <td>0.581017</td>\n",
       "      <td>0.916874</td>\n",
       "      <td>0.422008</td>\n",
       "    </tr>\n",
       "    <tr>\n",
       "      <th>High</th>\n",
       "      <td>0.581017</td>\n",
       "      <td>1.000000</td>\n",
       "      <td>0.697936</td>\n",
       "      <td>0.778009</td>\n",
       "    </tr>\n",
       "    <tr>\n",
       "      <th>Low</th>\n",
       "      <td>0.916874</td>\n",
       "      <td>0.697936</td>\n",
       "      <td>1.000000</td>\n",
       "      <td>0.556443</td>\n",
       "    </tr>\n",
       "    <tr>\n",
       "      <th>Close</th>\n",
       "      <td>0.422008</td>\n",
       "      <td>0.778009</td>\n",
       "      <td>0.556443</td>\n",
       "      <td>1.000000</td>\n",
       "    </tr>\n",
       "  </tbody>\n",
       "</table>\n",
       "</div>"
      ],
      "text/plain": [
       "           Open      High       Low     Close\n",
       "Open   1.000000  0.581017  0.916874  0.422008\n",
       "High   0.581017  1.000000  0.697936  0.778009\n",
       "Low    0.916874  0.697936  1.000000  0.556443\n",
       "Close  0.422008  0.778009  0.556443  1.000000"
      ]
     },
     "execution_count": 37,
     "metadata": {},
     "output_type": "execute_result"
    }
   ],
   "source": [
    "df.corr(method='pearson')"
   ]
  },
  {
   "cell_type": "code",
   "execution_count": 38,
   "id": "1739831b",
   "metadata": {},
   "outputs": [
    {
     "data": {
      "image/png": "[encoded data removed]",
      "text/plain": [
       "<Figure size 576x576 with 2 Axes>"
      ]
     },
     "metadata": {
      "needs_background": "light"
     },
     "output_type": "display_data"
    }
   ],
   "source": [
    "plt.figure(figsize = (8,8))\n",
    "sns.heatmap(df.corr(),annot=True,fmt=\"f\")\n",
    "plt.show()"
   ]
  },
  {
   "cell_type": "code",
   "execution_count": 39,
   "id": "3583b933",
   "metadata": {},
   "outputs": [
    {
     "data": {
      "text/plain": [
       "<seaborn.axisgrid.PairGrid at 0x1afff967820>"
      ]
     },
     "execution_count": 39,
     "metadata": {},
     "output_type": "execute_result"
    },
    {
     "data": {
      "image/png": "[encoded data removed]",
      "text/plain": [
       "<Figure size 720x720 with 20 Axes>"
      ]
     },
     "metadata": {
      "needs_background": "light"
     },
     "output_type": "display_data"
    }
   ],
   "source": [
    "sns.pairplot(data=df,kind='scatter')"
   ]
  },
  {
   "cell_type": "code",
   "execution_count": 42,
   "id": "85355157",
   "metadata": {},
   "outputs": [
    {
     "data": {
      "image/png": "[encoded data removed]",
      "text/plain": [
       "<Figure size 1080x432 with 4 Axes>"
      ]
     },
     "metadata": {
      "needs_background": "light"
     },
     "output_type": "display_data"
    }
   ],
   "source": [
    "plt.figure(1 , figsize = (15 , 6))\n",
    "n = 0 \n",
    "for x in ['Open' , 'High' , 'Low', 'Close']:\n",
    "    n += 1\n",
    "    plt.subplot(1 , 4 , n)\n",
    "    plt.subplots_adjust(hspace = 0.5 , wspace = 0.5)\n",
    "    sns.distplot(df[x] , bins = 15)\n",
    "    plt.title('Distplot of {}'.format(x))\n",
    "plt.show()"
   ]
  },
  {
   "cell_type": "code",
   "execution_count": 78,
   "id": "f0971e41",
   "metadata": {},
   "outputs": [
    {
     "data": {
      "image/png": "[encoded data removed]",
      "text/plain": [
       "<Figure size 864x432 with 1 Axes>"
      ]
     },
     "metadata": {
      "needs_background": "light"
     },
     "output_type": "display_data"
    }
   ],
   "source": [
    "from pandas.plotting import radviz  \n",
    "plt.figure(1 , figsize = (12, 6))\n",
    "radviz(df, \"Date\") \n",
    "plt.show()"
   ]
  },
  {
   "cell_type": "code",
   "execution_count": 124,
   "id": "640ae7e9",
   "metadata": {},
   "outputs": [
    {
     "data": {
      "image/png": "[encoded data removed]",
      "text/plain": [
       "<Figure size 432x288 with 1 Axes>"
      ]
     },
     "metadata": {
      "needs_background": "light"
     },
     "output_type": "display_data"
    }
   ],
   "source": [
    "plt.figure(1 , figsize = (6, 4))\n",
    "plt.title('Scatter plot of Open vs Date', fontsize = 20)\n",
    "plt.xlabel('Open')\n",
    "plt.ylabel('Date')\n",
    "plt.scatter( x = 'Open', y = 'Date', data = df, s = 100)\n",
    "plt.show()"
   ]
  },
  {
   "cell_type": "code",
   "execution_count": 125,
   "id": "b5825892",
   "metadata": {},
   "outputs": [
    {
     "data": {
      "image/png": "[encoded data removed]",
      "text/plain": [
       "<Figure size 432x288 with 1 Axes>"
      ]
     },
     "metadata": {
      "needs_background": "light"
     },
     "output_type": "display_data"
    }
   ],
   "source": [
    "plt.figure(1 , figsize = (6, 4))\n",
    "plt.title('Scatter plot of High vs Date', fontsize = 20)\n",
    "plt.xlabel('High')\n",
    "plt.ylabel('Date')\n",
    "plt.scatter( x = 'High', y = 'Date', data = df, s = 100)\n",
    "plt.show()"
   ]
  },
  {
   "cell_type": "code",
   "execution_count": 126,
   "id": "0a90e905",
   "metadata": {},
   "outputs": [
    {
     "data": {
      "image/png": "[encoded data removed]",
      "text/plain": [
       "<Figure size 432x288 with 1 Axes>"
      ]
     },
     "metadata": {
      "needs_background": "light"
     },
     "output_type": "display_data"
    }
   ],
   "source": [
    "plt.figure(1 , figsize = (6 , 4))\n",
    "plt.title('Scatter plot of Low vs Date', fontsize = 20)\n",
    "plt.xlabel('Low')\n",
    "plt.ylabel('Date')\n",
    "plt.scatter( x = 'Low', y = 'Date', data = df, s = 100)\n",
    "plt.show()"
   ]
  },
  {
   "cell_type": "code",
   "execution_count": 127,
   "id": "275dbd49",
   "metadata": {},
   "outputs": [
    {
     "data": {
      "image/png": "[encoded data removed]",
      "text/plain": [
       "<Figure size 432x288 with 1 Axes>"
      ]
     },
     "metadata": {
      "needs_background": "light"
     },
     "output_type": "display_data"
    }
   ],
   "source": [
    "plt.figure(1 , figsize = (6, 4))\n",
    "plt.title('Scatter plot Close vs Date', fontsize = 20)\n",
    "plt.xlabel('Close')\n",
    "plt.ylabel('Date')\n",
    "plt.scatter( x = 'Close', y = 'Date', data = df, s = 100)\n",
    "plt.show()"
   ]
  },
  {
   "cell_type": "markdown",
   "id": "7c85a787",
   "metadata": {},
   "source": [
    "---\n",
    "### Clustering Open & Close\n",
    "---"
   ]
  },
  {
   "cell_type": "code",
   "execution_count": 61,
   "id": "212b2f99",
   "metadata": {},
   "outputs": [
    {
     "data": {
      "text/html": [
       "<div>\n",
       "<style scoped>\n",
       "    .dataframe tbody tr th:only-of-type {\n",
       "        vertical-align: middle;\n",
       "    }\n",
       "\n",
       "    .dataframe tbody tr th {\n",
       "        vertical-align: top;\n",
       "    }\n",
       "\n",
       "    .dataframe thead th {\n",
       "        text-align: right;\n",
       "    }\n",
       "</style>\n",
       "<table border=\"1\" class=\"dataframe\">\n",
       "  <thead>\n",
       "    <tr style=\"text-align: right;\">\n",
       "      <th></th>\n",
       "      <th>Open</th>\n",
       "      <th>Close</th>\n",
       "    </tr>\n",
       "  </thead>\n",
       "  <tbody>\n",
       "    <tr>\n",
       "      <th>0</th>\n",
       "      <td>3360.0</td>\n",
       "      <td>4090.0</td>\n",
       "    </tr>\n",
       "    <tr>\n",
       "      <th>1</th>\n",
       "      <td>4130.0</td>\n",
       "      <td>4170.0</td>\n",
       "    </tr>\n",
       "    <tr>\n",
       "      <th>2</th>\n",
       "      <td>4170.0</td>\n",
       "      <td>4180.0</td>\n",
       "    </tr>\n",
       "    <tr>\n",
       "      <th>3</th>\n",
       "      <td>4180.0</td>\n",
       "      <td>4710.0</td>\n",
       "    </tr>\n",
       "    <tr>\n",
       "      <th>4</th>\n",
       "      <td>4800.0</td>\n",
       "      <td>4400.0</td>\n",
       "    </tr>\n",
       "  </tbody>\n",
       "</table>\n",
       "</div>"
      ],
      "text/plain": [
       "     Open   Close\n",
       "0  3360.0  4090.0\n",
       "1  4130.0  4170.0\n",
       "2  4170.0  4180.0\n",
       "3  4180.0  4710.0\n",
       "4  4800.0  4400.0"
      ]
     },
     "execution_count": 61,
     "metadata": {},
     "output_type": "execute_result"
    }
   ],
   "source": [
    "data = df.iloc[:, 1::3]\n",
    "data.head()"
   ]
  },
  {
   "cell_type": "code",
   "execution_count": 62,
   "id": "11832acd",
   "metadata": {},
   "outputs": [
    {
     "data": {
      "image/png": "[encoded data removed]",
      "text/plain": [
       "<Figure size 432x288 with 1 Axes>"
      ]
     },
     "metadata": {
      "needs_background": "light"
     },
     "output_type": "display_data"
    }
   ],
   "source": [
    "sns.scatterplot(x=\"Open\", y=\"Close\", data=data, s=100, color=\"red\", alpha = 0.5)\n",
    "plt.show()"
   ]
  },
  {
   "cell_type": "code",
   "execution_count": 63,
   "id": "a4aac171",
   "metadata": {},
   "outputs": [
    {
     "name": "stdout",
     "output_type": "stream",
     "text": [
      "[[3360.       4090.      ]\n",
      " [4130.       4170.      ]\n",
      " [4170.       4180.      ]\n",
      " [4180.       4710.      ]\n",
      " [4800.       4400.      ]\n",
      " [4350.       4050.      ]\n",
      " [4060.       4260.      ]\n",
      " [4350.       3940.      ]\n",
      " [3940.       3710.      ]\n",
      " [3770.       3572.665527]\n",
      " [3572.665527 3850.      ]\n",
      " [3850.       4250.      ]\n",
      " [4330.       4160.      ]]\n"
     ]
    }
   ],
   "source": [
    "x_array = np.array(data)\n",
    "print(x_array)"
   ]
  },
  {
   "cell_type": "code",
   "execution_count": 64,
   "id": "a6aceed2",
   "metadata": {},
   "outputs": [
    {
     "data": {
      "text/plain": [
       "array([[0.        , 0.45486573],\n",
       "       [0.53472222, 0.52520563],\n",
       "       [0.5625    , 0.53399812],\n",
       "       [0.56944444, 1.        ],\n",
       "       [1.        , 0.72743286],\n",
       "       [0.6875    , 0.41969577],\n",
       "       [0.48611111, 0.60433803],\n",
       "       [0.6875    , 0.3229784 ],\n",
       "       [0.40277778, 0.12075117],\n",
       "       [0.28472222, 0.        ],\n",
       "       [0.14768439, 0.24384601],\n",
       "       [0.34027778, 0.59554554],\n",
       "       [0.67361111, 0.51641315]])"
      ]
     },
     "execution_count": 64,
     "metadata": {},
     "output_type": "execute_result"
    }
   ],
   "source": [
    "scaler = MinMaxScaler()\n",
    "x_scaled = scaler.fit_transform(x_array)\n",
    "x_scaled"
   ]
  },
  {
   "cell_type": "code",
   "execution_count": 65,
   "id": "f975cb57",
   "metadata": {},
   "outputs": [
    {
     "data": {
      "text/plain": [
       "KMeans(n_clusters=3, random_state=123)"
      ]
     },
     "execution_count": 65,
     "metadata": {},
     "output_type": "execute_result"
    }
   ],
   "source": [
    "kmeans = KMeans(n_clusters = 3, random_state=123)\n",
    "kmeans.fit(x_scaled)"
   ]
  },
  {
   "cell_type": "code",
   "execution_count": 66,
   "id": "35b7cd9f",
   "metadata": {},
   "outputs": [
    {
     "name": "stdout",
     "output_type": "stream",
     "text": [
      "[[0.2087961  0.20486573]\n",
      " [0.56746032 0.50259638]\n",
      " [0.78472222 0.86371643]]\n"
     ]
    }
   ],
   "source": [
    "print(kmeans.cluster_centers_)"
   ]
  },
  {
   "cell_type": "code",
   "execution_count": 67,
   "id": "297fc547",
   "metadata": {},
   "outputs": [
    {
     "data": {
      "text/html": [
       "<div>\n",
       "<style scoped>\n",
       "    .dataframe tbody tr th:only-of-type {\n",
       "        vertical-align: middle;\n",
       "    }\n",
       "\n",
       "    .dataframe tbody tr th {\n",
       "        vertical-align: top;\n",
       "    }\n",
       "\n",
       "    .dataframe thead th {\n",
       "        text-align: right;\n",
       "    }\n",
       "</style>\n",
       "<table border=\"1\" class=\"dataframe\">\n",
       "  <thead>\n",
       "    <tr style=\"text-align: right;\">\n",
       "      <th></th>\n",
       "      <th>Open</th>\n",
       "      <th>Close</th>\n",
       "      <th>Cluster</th>\n",
       "    </tr>\n",
       "  </thead>\n",
       "  <tbody>\n",
       "    <tr>\n",
       "      <th>0</th>\n",
       "      <td>3360.0</td>\n",
       "      <td>4090.0</td>\n",
       "      <td>0</td>\n",
       "    </tr>\n",
       "    <tr>\n",
       "      <th>1</th>\n",
       "      <td>4130.0</td>\n",
       "      <td>4170.0</td>\n",
       "      <td>1</td>\n",
       "    </tr>\n",
       "    <tr>\n",
       "      <th>2</th>\n",
       "      <td>4170.0</td>\n",
       "      <td>4180.0</td>\n",
       "      <td>1</td>\n",
       "    </tr>\n",
       "    <tr>\n",
       "      <th>3</th>\n",
       "      <td>4180.0</td>\n",
       "      <td>4710.0</td>\n",
       "      <td>2</td>\n",
       "    </tr>\n",
       "    <tr>\n",
       "      <th>4</th>\n",
       "      <td>4800.0</td>\n",
       "      <td>4400.0</td>\n",
       "      <td>2</td>\n",
       "    </tr>\n",
       "  </tbody>\n",
       "</table>\n",
       "</div>"
      ],
      "text/plain": [
       "     Open   Close  Cluster\n",
       "0  3360.0  4090.0        0\n",
       "1  4130.0  4170.0        1\n",
       "2  4170.0  4180.0        1\n",
       "3  4180.0  4710.0        2\n",
       "4  4800.0  4400.0        2"
      ]
     },
     "execution_count": 67,
     "metadata": {},
     "output_type": "execute_result"
    }
   ],
   "source": [
    "data[\"Cluster\"] = kmeans.labels_\n",
    "data.head()"
   ]
  },
  {
   "cell_type": "code",
   "execution_count": 68,
   "id": "aa570c00",
   "metadata": {},
   "outputs": [
    {
     "data": {
      "image/png": "[encoded data removed]",
      "text/plain": [
       "<Figure size 432x288 with 2 Axes>"
      ]
     },
     "metadata": {
      "needs_background": "light"
     },
     "output_type": "display_data"
    }
   ],
   "source": [
    "output = plt.scatter(x_scaled[:,0], x_scaled[:,1], s =800, c = data.Cluster, marker = \"o\", alpha = 1, )\n",
    "centers = kmeans.cluster_centers_\n",
    "plt.scatter(centers[:,0], centers[:,1], c='red', s=100, alpha=1 , marker=\"o\");\n",
    "plt.title(\"Hasil Klustering K-Means Open vs Close\")\n",
    "plt.colorbar (output)\n",
    "plt.show()"
   ]
  },
  {
   "cell_type": "markdown",
   "id": "004c6211",
   "metadata": {},
   "source": [
    "---\n",
    "### Clustering High & Low\n",
    "---"
   ]
  },
  {
   "cell_type": "code",
   "execution_count": 69,
   "id": "e276bbc8",
   "metadata": {},
   "outputs": [
    {
     "data": {
      "text/html": [
       "<div>\n",
       "<style scoped>\n",
       "    .dataframe tbody tr th:only-of-type {\n",
       "        vertical-align: middle;\n",
       "    }\n",
       "\n",
       "    .dataframe tbody tr th {\n",
       "        vertical-align: top;\n",
       "    }\n",
       "\n",
       "    .dataframe thead th {\n",
       "        text-align: right;\n",
       "    }\n",
       "</style>\n",
       "<table border=\"1\" class=\"dataframe\">\n",
       "  <thead>\n",
       "    <tr style=\"text-align: right;\">\n",
       "      <th></th>\n",
       "      <th>High</th>\n",
       "      <th>Low</th>\n",
       "    </tr>\n",
       "  </thead>\n",
       "  <tbody>\n",
       "    <tr>\n",
       "      <th>0</th>\n",
       "      <td>4390.0</td>\n",
       "      <td>3290.0</td>\n",
       "    </tr>\n",
       "    <tr>\n",
       "      <th>1</th>\n",
       "      <td>4450.0</td>\n",
       "      <td>3950.0</td>\n",
       "    </tr>\n",
       "    <tr>\n",
       "      <th>2</th>\n",
       "      <td>4950.0</td>\n",
       "      <td>4150.0</td>\n",
       "    </tr>\n",
       "    <tr>\n",
       "      <th>3</th>\n",
       "      <td>4870.0</td>\n",
       "      <td>3960.0</td>\n",
       "    </tr>\n",
       "    <tr>\n",
       "      <th>4</th>\n",
       "      <td>4880.0</td>\n",
       "      <td>4260.0</td>\n",
       "    </tr>\n",
       "  </tbody>\n",
       "</table>\n",
       "</div>"
      ],
      "text/plain": [
       "     High     Low\n",
       "0  4390.0  3290.0\n",
       "1  4450.0  3950.0\n",
       "2  4950.0  4150.0\n",
       "3  4870.0  3960.0\n",
       "4  4880.0  4260.0"
      ]
     },
     "execution_count": 69,
     "metadata": {},
     "output_type": "execute_result"
    }
   ],
   "source": [
    "data = df.iloc[:, 2:4]\n",
    "data.head()"
   ]
  },
  {
   "cell_type": "code",
   "execution_count": 70,
   "id": "40ab325e",
   "metadata": {},
   "outputs": [
    {
     "data": {
      "image/png": "[encoded data removed]",
      "text/plain": [
       "<Figure size 432x288 with 1 Axes>"
      ]
     },
     "metadata": {
      "needs_background": "light"
     },
     "output_type": "display_data"
    }
   ],
   "source": [
    "sns.scatterplot(x=\"High\", y=\"Low\", data=data, s=100, color=\"red\", alpha = 0.5)\n",
    "plt.show()"
   ]
  },
  {
   "cell_type": "code",
   "execution_count": 71,
   "id": "c87de56e",
   "metadata": {},
   "outputs": [
    {
     "name": "stdout",
     "output_type": "stream",
     "text": [
      "[[4390.       3290.      ]\n",
      " [4450.       3950.      ]\n",
      " [4950.       4150.      ]\n",
      " [4870.       3960.      ]\n",
      " [4880.       4260.      ]\n",
      " [4460.       4050.      ]\n",
      " [4280.       3820.      ]\n",
      " [4390.       3860.      ]\n",
      " [4030.       3700.      ]\n",
      " [4090.       3481.758057]\n",
      " [3880.       3463.576416]\n",
      " [4460.       3830.      ]\n",
      " [4340.       4120.      ]]\n"
     ]
    }
   ],
   "source": [
    "x_array = np.array(data)\n",
    "print(x_array)"
   ]
  },
  {
   "cell_type": "code",
   "execution_count": 72,
   "id": "d7ce0d0d",
   "metadata": {},
   "outputs": [
    {
     "data": {
      "text/plain": [
       "array([[0.47663551, 0.        ],\n",
       "       [0.53271028, 0.68041237],\n",
       "       [1.        , 0.88659794],\n",
       "       [0.92523364, 0.69072165],\n",
       "       [0.93457944, 1.        ],\n",
       "       [0.54205607, 0.78350515],\n",
       "       [0.37383178, 0.54639175],\n",
       "       [0.47663551, 0.58762887],\n",
       "       [0.14018692, 0.42268041],\n",
       "       [0.19626168, 0.19768872],\n",
       "       [0.        , 0.17894476],\n",
       "       [0.54205607, 0.55670103],\n",
       "       [0.42990654, 0.8556701 ]])"
      ]
     },
     "execution_count": 72,
     "metadata": {},
     "output_type": "execute_result"
    }
   ],
   "source": [
    "scaler = MinMaxScaler()\n",
    "x_scaled = scaler.fit_transform(x_array)\n",
    "x_scaled"
   ]
  },
  {
   "cell_type": "code",
   "execution_count": 73,
   "id": "dfde1b39",
   "metadata": {},
   "outputs": [
    {
     "data": {
      "text/plain": [
       "KMeans(n_clusters=4, random_state=123)"
      ]
     },
     "execution_count": 73,
     "metadata": {},
     "output_type": "execute_result"
    }
   ],
   "source": [
    "kmeans = KMeans(n_clusters = 4, random_state=123)\n",
    "kmeans.fit(x_scaled)"
   ]
  },
  {
   "cell_type": "code",
   "execution_count": 75,
   "id": "02374283",
   "metadata": {},
   "outputs": [
    {
     "name": "stdout",
     "output_type": "stream",
     "text": [
      "[[0.47663551 0.        ]\n",
      " [0.95327103 0.85910653]\n",
      " [0.48286604 0.66838488]\n",
      " [0.11214953 0.26643796]]\n"
     ]
    }
   ],
   "source": [
    "print(kmeans.cluster_centers_)"
   ]
  },
  {
   "cell_type": "code",
   "execution_count": 76,
   "id": "3ff1cead",
   "metadata": {},
   "outputs": [
    {
     "data": {
      "text/html": [
       "<div>\n",
       "<style scoped>\n",
       "    .dataframe tbody tr th:only-of-type {\n",
       "        vertical-align: middle;\n",
       "    }\n",
       "\n",
       "    .dataframe tbody tr th {\n",
       "        vertical-align: top;\n",
       "    }\n",
       "\n",
       "    .dataframe thead th {\n",
       "        text-align: right;\n",
       "    }\n",
       "</style>\n",
       "<table border=\"1\" class=\"dataframe\">\n",
       "  <thead>\n",
       "    <tr style=\"text-align: right;\">\n",
       "      <th></th>\n",
       "      <th>High</th>\n",
       "      <th>Low</th>\n",
       "      <th>Cluster</th>\n",
       "    </tr>\n",
       "  </thead>\n",
       "  <tbody>\n",
       "    <tr>\n",
       "      <th>0</th>\n",
       "      <td>4390.0</td>\n",
       "      <td>3290.0</td>\n",
       "      <td>0</td>\n",
       "    </tr>\n",
       "    <tr>\n",
       "      <th>1</th>\n",
       "      <td>4450.0</td>\n",
       "      <td>3950.0</td>\n",
       "      <td>2</td>\n",
       "    </tr>\n",
       "    <tr>\n",
       "      <th>2</th>\n",
       "      <td>4950.0</td>\n",
       "      <td>4150.0</td>\n",
       "      <td>1</td>\n",
       "    </tr>\n",
       "    <tr>\n",
       "      <th>3</th>\n",
       "      <td>4870.0</td>\n",
       "      <td>3960.0</td>\n",
       "      <td>1</td>\n",
       "    </tr>\n",
       "    <tr>\n",
       "      <th>4</th>\n",
       "      <td>4880.0</td>\n",
       "      <td>4260.0</td>\n",
       "      <td>1</td>\n",
       "    </tr>\n",
       "  </tbody>\n",
       "</table>\n",
       "</div>"
      ],
      "text/plain": [
       "     High     Low  Cluster\n",
       "0  4390.0  3290.0        0\n",
       "1  4450.0  3950.0        2\n",
       "2  4950.0  4150.0        1\n",
       "3  4870.0  3960.0        1\n",
       "4  4880.0  4260.0        1"
      ]
     },
     "execution_count": 76,
     "metadata": {},
     "output_type": "execute_result"
    }
   ],
   "source": [
    "data[\"Cluster\"] = kmeans.labels_\n",
    "data.head()"
   ]
  },
  {
   "cell_type": "code",
   "execution_count": 77,
   "id": "737ad7e0",
   "metadata": {},
   "outputs": [
    {
     "data": {
      "image/png": "[encoded data removed]",
      "text/plain": [
       "<Figure size 432x288 with 2 Axes>"
      ]
     },
     "metadata": {
      "needs_background": "light"
     },
     "output_type": "display_data"
    }
   ],
   "source": [
    "output = plt.scatter(x_scaled[:,0], x_scaled[:,1], s =800, c = data.Cluster, marker = \"o\", alpha = 1, )\n",
    "centers = kmeans.cluster_centers_\n",
    "plt.scatter(centers[:,0], centers[:,1], c='red', s=100, alpha=1 , marker=\"o\");\n",
    "plt.title(\"Hasil Klustering K-Means High vs Low\")\n",
    "plt.colorbar (output)\n",
    "plt.show()"
   ]
  },
  {
   "cell_type": "code",
   "execution_count": null,
   "id": "99c86e48",
   "metadata": {},
   "outputs": [],
   "source": []
  }
 ],
 "metadata": {
  "kernelspec": {
   "display_name": "Python 3",
   "language": "python",
   "name": "python3"
  },
  "language_info": {
   "codemirror_mode": {
    "name": "ipython",
    "version": 3
   },
   "file_extension": ".py",
   "mimetype": "text/x-python",
   "name": "python",
   "nbconvert_exporter": "python",
   "pygments_lexer": "ipython3",
   "version": "3.8.8"
  }
 },
 "nbformat": 4,
 "nbformat_minor": 5
}
